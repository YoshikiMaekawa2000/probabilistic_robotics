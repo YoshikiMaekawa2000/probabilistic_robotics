{
 "cells": [
  {
   "cell_type": "markdown",
   "id": "f0fa6b83",
   "metadata": {},
   "source": [
    "# Ideal Robot Model"
   ]
  },
  {
   "cell_type": "markdown",
   "id": "c2570cc0",
   "metadata": {},
   "source": [
    "### ノイズを考慮しない場合のロボットのモデル"
   ]
  },
  {
   "cell_type": "markdown",
   "id": "26941463",
   "metadata": {},
   "source": [
    "Ideal Robotクラスを追加（描画だけ）"
   ]
  },
  {
   "cell_type": "code",
   "execution_count": 1,
   "id": "201c4d11",
   "metadata": {},
   "outputs": [],
   "source": [
    "import matplotlib.pyplot as plt\n",
    "import math\n",
    "import matplotlib.patches as patches  #図形の描画モジュール\n",
    "import numpy as np"
   ]
  },
  {
   "cell_type": "code",
   "execution_count": 2,
   "id": "2193ec68",
   "metadata": {},
   "outputs": [],
   "source": [
    "class World:\n",
    "    def __init__(self):\n",
    "        self.objects = []   #ここに、世界の中にあるrobotや障害物を登録\n",
    "        \n",
    "    def append(self, obj):\n",
    "        self.objects.append(obj)\n",
    "        \n",
    "    def draw(self):\n",
    "        fig = plt.figure(figsize = (8,8)) #8*8 inchの図を用意\n",
    "        ax = fig.add_subplot(111)         #サブプロットを準備\n",
    "        ax.set_aspect('equal')            #縦横比を設定（ここでは１：１）\n",
    "        ax.set_xlim(-5, 5)\n",
    "        ax.set_ylim(-5, 5)\n",
    "        ax.set_xlabel(\"X\")\n",
    "        ax.set_ylabel(\"Y\")\n",
    "        \n",
    "        for obj in self.objects:\n",
    "            obj.draw(ax)                #登録した物体のもつdraw関数を呼び出す\n",
    "        plt.show()                      #描画\n",
    "        \n",
    "        "
   ]
  },
  {
   "cell_type": "code",
   "execution_count": 3,
   "id": "8285070b",
   "metadata": {},
   "outputs": [],
   "source": [
    "class IdealRobot:\n",
    "    def __init__(self, pose, color = \"black\"):\n",
    "        self.pose = pose  #姿勢の初期値（numpyの3次元配列）\n",
    "        self.r = 0.2     #半径\n",
    "        self.color = color\n",
    "        \n",
    "    def draw(self, ax):\n",
    "        x, y, theta = self.pose\n",
    "        x_n = x + self.r * math.cos(theta)\n",
    "        y_n = y + self.r * math.sin(theta)  #それぞれの鼻先の座標\n",
    "        \n",
    "        ax.plot([x, x_n], [y, y_n], color=self.color)     #線の描画\n",
    "        c = patches.Circle(xy = (x, y), radius = self.r, fill=False, color = self.color)   #円の描画\n",
    "        ax.add_patch(c)    #patch（ここでは円）をsubplotに追加"
   ]
  },
  {
   "cell_type": "code",
   "execution_count": 4,
   "id": "d4f61617",
   "metadata": {},
   "outputs": [
    {
     "data": {
      "image/png": "[encoded data removed]",
      "text/plain": [
       "<Figure size 800x800 with 1 Axes>"
      ]
     },
     "metadata": {},
     "output_type": "display_data"
    }
   ],
   "source": [
    "world = World()\n",
    "\n",
    "robot1 = IdealRobot(np.array([2,2, math.pi/6]).T)\n",
    "world.append(robot1)\n",
    "world.draw()"
   ]
  },
  {
   "cell_type": "code",
   "execution_count": null,
   "id": "b452a1e3",
   "metadata": {},
   "outputs": [],
   "source": []
  }
 ],
 "metadata": {
  "kernelspec": {
   "display_name": "Python 3 (ipykernel)",
   "language": "python",
   "name": "python3"
  },
  "language_info": {
   "codemirror_mode": {
    "name": "ipython",
    "version": 3
   },
   "file_extension": ".py",
   "mimetype": "text/x-python",
   "name": "python",
   "nbconvert_exporter": "python",
   "pygments_lexer": "ipython3",
   "version": "3.9.13"
  }
 },
 "nbformat": 4,
 "nbformat_minor": 5
}
